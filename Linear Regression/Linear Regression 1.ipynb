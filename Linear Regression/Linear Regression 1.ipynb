{
 "cells": [
  {
   "cell_type": "code",
   "execution_count": 1,
   "id": "5874ca1c",
   "metadata": {},
   "outputs": [],
   "source": [
    "import pandas as pd\n",
    "import numpy as np\n",
    "import matplotlib.pyplot as plt"
   ]
  },
  {
   "cell_type": "code",
   "execution_count": 2,
   "id": "72994c20",
   "metadata": {},
   "outputs": [],
   "source": [
    "data = pd.read_csv(\"data_for_lr.csv\")"
   ]
  },
  {
   "cell_type": "code",
   "execution_count": 4,
   "id": "56e48ba4",
   "metadata": {},
   "outputs": [
    {
     "data": {
      "text/html": [
       "<div>\n",
       "<style scoped>\n",
       "    .dataframe tbody tr th:only-of-type {\n",
       "        vertical-align: middle;\n",
       "    }\n",
       "\n",
       "    .dataframe tbody tr th {\n",
       "        vertical-align: top;\n",
       "    }\n",
       "\n",
       "    .dataframe thead th {\n",
       "        text-align: right;\n",
       "    }\n",
       "</style>\n",
       "<table border=\"1\" class=\"dataframe\">\n",
       "  <thead>\n",
       "    <tr style=\"text-align: right;\">\n",
       "      <th></th>\n",
       "      <th>x</th>\n",
       "      <th>y</th>\n",
       "    </tr>\n",
       "  </thead>\n",
       "  <tbody>\n",
       "    <tr>\n",
       "      <th>0</th>\n",
       "      <td>24.0</td>\n",
       "      <td>21.549452</td>\n",
       "    </tr>\n",
       "    <tr>\n",
       "      <th>1</th>\n",
       "      <td>50.0</td>\n",
       "      <td>47.464463</td>\n",
       "    </tr>\n",
       "    <tr>\n",
       "      <th>2</th>\n",
       "      <td>15.0</td>\n",
       "      <td>17.218656</td>\n",
       "    </tr>\n",
       "    <tr>\n",
       "      <th>3</th>\n",
       "      <td>38.0</td>\n",
       "      <td>36.586398</td>\n",
       "    </tr>\n",
       "    <tr>\n",
       "      <th>4</th>\n",
       "      <td>87.0</td>\n",
       "      <td>87.288984</td>\n",
       "    </tr>\n",
       "    <tr>\n",
       "      <th>5</th>\n",
       "      <td>36.0</td>\n",
       "      <td>32.463875</td>\n",
       "    </tr>\n",
       "    <tr>\n",
       "      <th>6</th>\n",
       "      <td>12.0</td>\n",
       "      <td>10.780897</td>\n",
       "    </tr>\n",
       "    <tr>\n",
       "      <th>7</th>\n",
       "      <td>81.0</td>\n",
       "      <td>80.763399</td>\n",
       "    </tr>\n",
       "    <tr>\n",
       "      <th>8</th>\n",
       "      <td>25.0</td>\n",
       "      <td>24.612151</td>\n",
       "    </tr>\n",
       "    <tr>\n",
       "      <th>9</th>\n",
       "      <td>5.0</td>\n",
       "      <td>6.963319</td>\n",
       "    </tr>\n",
       "  </tbody>\n",
       "</table>\n",
       "</div>"
      ],
      "text/plain": [
       "      x          y\n",
       "0  24.0  21.549452\n",
       "1  50.0  47.464463\n",
       "2  15.0  17.218656\n",
       "3  38.0  36.586398\n",
       "4  87.0  87.288984\n",
       "5  36.0  32.463875\n",
       "6  12.0  10.780897\n",
       "7  81.0  80.763399\n",
       "8  25.0  24.612151\n",
       "9   5.0   6.963319"
      ]
     },
     "execution_count": 4,
     "metadata": {},
     "output_type": "execute_result"
    }
   ],
   "source": [
    "data.head(10)"
   ]
  },
  {
   "cell_type": "code",
   "execution_count": 5,
   "id": "3fa4707a",
   "metadata": {},
   "outputs": [
    {
     "name": "stdout",
     "output_type": "stream",
     "text": [
      "<class 'pandas.core.frame.DataFrame'>\n",
      "RangeIndex: 700 entries, 0 to 699\n",
      "Data columns (total 2 columns):\n",
      " #   Column  Non-Null Count  Dtype  \n",
      "---  ------  --------------  -----  \n",
      " 0   x       700 non-null    float64\n",
      " 1   y       699 non-null    float64\n",
      "dtypes: float64(2)\n",
      "memory usage: 11.1 KB\n"
     ]
    }
   ],
   "source": [
    "data.info()"
   ]
  },
  {
   "cell_type": "code",
   "execution_count": 6,
   "id": "3196a2ae",
   "metadata": {},
   "outputs": [
    {
     "data": {
      "text/plain": [
       "x    0\n",
       "y    1\n",
       "dtype: int64"
      ]
     },
     "execution_count": 6,
     "metadata": {},
     "output_type": "execute_result"
    }
   ],
   "source": [
    "data.isna().sum()"
   ]
  },
  {
   "cell_type": "markdown",
   "id": "bc56224b",
   "metadata": {},
   "source": [
    "## Data Processing"
   ]
  },
  {
   "cell_type": "code",
   "execution_count": 8,
   "id": "89c80139",
   "metadata": {},
   "outputs": [
    {
     "data": {
      "text/plain": [
       "(699, 2)"
      ]
     },
     "execution_count": 8,
     "metadata": {},
     "output_type": "execute_result"
    }
   ],
   "source": [
    "data.dropna(inplace = True)\n",
    "data.shape"
   ]
  },
  {
   "cell_type": "code",
   "execution_count": 9,
   "id": "a1b410c7",
   "metadata": {},
   "outputs": [
    {
     "name": "stdout",
     "output_type": "stream",
     "text": [
      "<class 'pandas.core.frame.DataFrame'>\n",
      "Index: 699 entries, 0 to 699\n",
      "Data columns (total 2 columns):\n",
      " #   Column  Non-Null Count  Dtype  \n",
      "---  ------  --------------  -----  \n",
      " 0   x       699 non-null    float64\n",
      " 1   y       699 non-null    float64\n",
      "dtypes: float64(2)\n",
      "memory usage: 16.4 KB\n"
     ]
    }
   ],
   "source": [
    "data.info()"
   ]
  },
  {
   "cell_type": "markdown",
   "id": "58879d36",
   "metadata": {},
   "source": [
    "## Splitting Data"
   ]
  },
  {
   "cell_type": "code",
   "execution_count": 13,
   "id": "1e2b0faf",
   "metadata": {},
   "outputs": [],
   "source": [
    "# Training input and output\n",
    "train_x = np.array(data.x[0:500]).reshape(500,1)\n",
    "train_y = np.array(data.y[0:500]).reshape(500,1)"
   ]
  },
  {
   "cell_type": "code",
   "execution_count": 20,
   "id": "02ff919c",
   "metadata": {},
   "outputs": [],
   "source": [
    "# Test data input and output\n",
    "test_x = np.array(data.x[500:]).reshape(199,1)\n",
    "test_y = np.array(data.y[500:]).reshape(199,1)"
   ]
  },
  {
   "cell_type": "code",
   "execution_count": 22,
   "id": "0c1c8326",
   "metadata": {},
   "outputs": [
    {
     "name": "stdout",
     "output_type": "stream",
     "text": [
      "Training X  (500, 1)\n",
      "Training Y  (500, 1)\n",
      "Tesing X  (199, 1)\n",
      "Testing Y  (199, 1)\n"
     ]
    }
   ],
   "source": [
    "print(\"Training X \",train_x.shape)\n",
    "print(\"Training Y \",train_y.shape)\n",
    "print(\"Tesing X \",test_x.shape)\n",
    "print(\"Testing Y \",test_y.shape)"
   ]
  },
  {
   "cell_type": "markdown",
   "id": "339724a9",
   "metadata": {},
   "source": [
    "# <font color=\"green\">Linear Regression</font>"
   ]
  },
  {
   "cell_type": "markdown",
   "id": "4b7c6ee0",
   "metadata": {},
   "source": [
    "## Forward Propogation\n",
    "### Hypothesis : - f(x) = m*x + c"
   ]
  },
  {
   "cell_type": "code",
   "execution_count": 23,
   "id": "05156151",
   "metadata": {},
   "outputs": [],
   "source": [
    "def forward_prop(train_x, parameters):\n",
    "    m = parameters[\"m\"]\n",
    "    c = parameters[\"c\"]\n",
    "    \n",
    "    predictions = np.multiply(m, train_x) + c\n",
    "    \n",
    "    return predictions"
   ]
  },
  {
   "cell_type": "markdown",
   "id": "9750c602",
   "metadata": {},
   "source": [
    "## Cost Function\n",
    "Cost fn = 1/2n * sum(predicted(y) - actual(y))^2"
   ]
  },
  {
   "cell_type": "code",
   "execution_count": 24,
   "id": "e92d7b33",
   "metadata": {},
   "outputs": [],
   "source": [
    "def cost_func(predictions, train_y):\n",
    "    \n",
    "    cost = np.mean((predictions - train_y)**2) * 0.5\n",
    "    return cost"
   ]
  },
  {
   "cell_type": "markdown",
   "id": "48f42ff6",
   "metadata": {},
   "source": [
    "## Gradient Descent for BackPropagation"
   ]
  },
  {
   "cell_type": "code",
   "execution_count": 26,
   "id": "f688d6a7",
   "metadata": {},
   "outputs": [],
   "source": [
    "def back_prop(train_x, train_y, predictions):\n",
    "    \n",
    "    derivatives = dict()\n",
    "    \n",
    "    df = np.mean(predictions-train_y)\n",
    "    dm = np.multiply(df,train_x)\n",
    "    dc = df\n",
    "    \n",
    "    derivatives[\"dm\"] = dm\n",
    "    derivatives[\"dc\"] = dc\n",
    "    \n",
    "    return derivatives"
   ]
  },
  {
   "cell_type": "markdown",
   "id": "58c254fa",
   "metadata": {},
   "source": [
    "## Update Parameters\n",
    "<p>m_new = m - (learning func) * dm <br>\n",
    "c_new = c - (learning func) * dc\n"
   ]
  },
  {
   "cell_type": "code",
   "execution_count": 29,
   "id": "2b2143e5",
   "metadata": {},
   "outputs": [],
   "source": [
    "def update_param(parameters, derivatives, learning_rate):\n",
    "    parameters[\"m\"] = parameters[\"m\"] - learning_rate * derivatives[\"dm\"]\n",
    "    parameters[\"c\"] = parameters[\"c\"] - learning_rate * derivatives[\"dc\"]\n",
    "    \n",
    "    return parameters"
   ]
  },
  {
   "cell_type": "code",
   "execution_count": null,
   "id": "62f3a110",
   "metadata": {},
   "outputs": [],
   "source": []
  }
 ],
 "metadata": {
  "kernelspec": {
   "display_name": "Python 3 (ipykernel)",
   "language": "python",
   "name": "python3"
  },
  "language_info": {
   "codemirror_mode": {
    "name": "ipython",
    "version": 3
   },
   "file_extension": ".py",
   "mimetype": "text/x-python",
   "name": "python",
   "nbconvert_exporter": "python",
   "pygments_lexer": "ipython3",
   "version": "3.11.5"
  }
 },
 "nbformat": 4,
 "nbformat_minor": 5
}
